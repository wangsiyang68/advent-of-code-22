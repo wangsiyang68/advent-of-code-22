{
 "cells": [
  {
   "cell_type": "code",
   "execution_count": 46,
   "metadata": {},
   "outputs": [],
   "source": [
    "f = open('input.txt', 'r') \n",
    "\n",
    "inputs = []\n",
    "for line in f:\n",
    "    inputs.append(line.strip()) \n",
    "\n",
    "f.close()"
   ]
  },
  {
   "cell_type": "code",
   "execution_count": 5,
   "metadata": {},
   "outputs": [
    {
     "data": {
      "text/plain": [
       "['Game 1: 3 blue, 4 red; 1 red, 2 green, 6 blue; 2 green',\n",
       " 'Game 2: 1 blue, 2 green; 3 green, 4 blue, 1 red; 1 green, 1 blue',\n",
       " 'Game 3: 8 green, 6 blue, 20 red; 5 blue, 4 red, 13 green; 5 green, 1 red',\n",
       " 'Game 4: 1 green, 3 red, 6 blue; 3 green, 6 red; 3 green, 15 blue, 14 red',\n",
       " 'Game 5: 6 red, 1 blue, 3 green; 2 blue, 1 red, 2 green']"
      ]
     },
     "execution_count": 5,
     "metadata": {},
     "output_type": "execute_result"
    }
   ],
   "source": [
    "inputs[:10]"
   ]
  },
  {
   "cell_type": "code",
   "execution_count": 22,
   "metadata": {},
   "outputs": [],
   "source": [
    "loaded = {'red': 12, 'green': 13, 'blue': 14}"
   ]
  },
  {
   "cell_type": "code",
   "execution_count": 47,
   "metadata": {},
   "outputs": [
    {
     "name": "stdout",
     "output_type": "stream",
     "text": [
      "63307\n"
     ]
    }
   ],
   "source": [
    "total = 0\n",
    "for game_index in range(len(inputs)):\n",
    "    game = inputs[game_index]\n",
    "    subgames = game.split(\":\")[-1].split(\";\")\n",
    "    max_cubes = {'red': 0, 'green': 0, 'blue': 0}\n",
    "    # print('')\n",
    "    # print(subgames)\n",
    "    for subgame in subgames:\n",
    "        cubes = subgame.split(',')\n",
    "        cube_dict = {'red': 0, 'green': 0, 'blue': 0}\n",
    "        for cube in cubes:\n",
    "            listing = cube.split(' ')\n",
    "            cube_dict[listing[2]] = int(listing[1])\n",
    "        for cube_colour in cube_dict.keys():\n",
    "            if max_cubes[cube_colour] < cube_dict[cube_colour]:\n",
    "                # print(\"hi\")\n",
    "                max_cubes[cube_colour] = cube_dict[cube_colour]\n",
    "    # print(max_cubes)\n",
    "    game_power = 1\n",
    "    for value in max_cubes.values():\n",
    "        game_power *= value\n",
    "    total += game_power\n",
    "        \n",
    "print(total)"
   ]
  }
 ],
 "metadata": {
  "kernelspec": {
   "display_name": "Python 3",
   "language": "python",
   "name": "python3"
  },
  "language_info": {
   "codemirror_mode": {
    "name": "ipython",
    "version": 3
   },
   "file_extension": ".py",
   "mimetype": "text/x-python",
   "name": "python",
   "nbconvert_exporter": "python",
   "pygments_lexer": "ipython3",
   "version": "3.11.4"
  }
 },
 "nbformat": 4,
 "nbformat_minor": 2
}
