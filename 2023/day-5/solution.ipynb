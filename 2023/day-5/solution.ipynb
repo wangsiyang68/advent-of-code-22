{
 "cells": [
  {
   "cell_type": "code",
   "execution_count": 76,
   "metadata": {},
   "outputs": [],
   "source": [
    "f = open('input.txt', 'r') \n",
    "\n",
    "inputs = []\n",
    "for line in f:\n",
    "    inputs.append(line.strip()) \n",
    "\n",
    "f.close()"
   ]
  },
  {
   "cell_type": "code",
   "execution_count": 77,
   "metadata": {},
   "outputs": [
    {
     "data": {
      "text/plain": [
       "['seeds: 2906961955 52237479 1600322402 372221628 2347782594 164705568 541904540 89745770 126821306 192539923 3411274151 496169308 919015581 8667739 654599767 160781040 3945616935 85197451 999146581 344584779',\n",
       " '',\n",
       " 'seed-to-soil map:',\n",
       " '2328388605 1716277852 240111965',\n",
       " '3183744888 3056742994 1057221520',\n",
       " '0 1574488136 141789716',\n",
       " '886579086 0 430196980',\n",
       " '141789716 2525350732 49125971',\n",
       " '881053613 1956389817 5525473',\n",
       " '3131936012 3013025394 43717600']"
      ]
     },
     "execution_count": 77,
     "metadata": {},
     "output_type": "execute_result"
    }
   ],
   "source": [
    "inputs[:10]"
   ]
  },
  {
   "cell_type": "code",
   "execution_count": 78,
   "metadata": {},
   "outputs": [
    {
     "data": {
      "text/plain": [
       "[[[2328388605, 1716277852, 240111965],\n",
       "  [3183744888, 3056742994, 1057221520],\n",
       "  [0, 1574488136, 141789716],\n",
       "  [886579086, 0, 430196980],\n",
       "  [141789716, 2525350732, 49125971],\n",
       "  [881053613, 1956389817, 5525473],\n",
       "  [3131936012, 3013025394, 43717600],\n",
       "  [629464378, 1322898901, 251589235],\n",
       "  [2568500570, 1961915290, 563435442],\n",
       "  [190915687, 2574476703, 438548691],\n",
       "  [3175653612, 4113964514, 8091276],\n",
       "  [1435686684, 430196980, 892701921],\n",
       "  [1316776066, 4122055790, 118910618]],\n",
       " [[0, 847324382, 159395290],\n",
       "  [1690371026, 1633839702, 81823607],\n",
       "  [1942873068, 561308539, 283153025],\n",
       "  [702170285, 347687930, 213620609],\n",
       "  [477747447, 1412279682, 221560020],\n",
       "  [1284811016, 1006719672, 253212372],\n",
       "  [2226026093, 170678435, 177009495],\n",
       "  [3187826244, 2792977617, 352243190],\n",
       "  [4225283470, 3206651416, 69683826],\n",
       "  [2970405965, 3691658787, 56026212],\n",
       "  [1538023388, 1259932044, 152347638],\n",
       "  [1772194633, 0, 170678435],\n",
       "  [3540069434, 3376298700, 315360087],\n",
       "  [159395290, 2084683431, 318352157],\n",
       "  [915790894, 1715663309, 369020122],\n",
       "  [2792977617, 4117538948, 177428348],\n",
       "  [3026432177, 3145220807, 61430609],\n",
       "  [699307467, 844461564, 2862818],\n",
       "  [3855429521, 3747684999, 21637270],\n",
       "  [3877066791, 3769322269, 348216679],\n",
       "  [3087862786, 3276335242, 99963458]],\n",
       " [[1957494254, 3160765597, 68123328],\n",
       "  [3668612865, 2055686861, 40068724],\n",
       "  [435525860, 0, 215171709],\n",
       "  [417459051, 715121035, 18066809],\n",
       "  [3249874551, 2634587998, 121218972],\n",
       "  [3537356195, 3926770979, 26944785],\n",
       "  [409490069, 215171709, 7968982],\n",
       "  [3247878798, 2456653359, 1995753],\n",
       "  [152557237, 570466650, 62164110],\n",
       "  [0, 223140691, 152557237],\n",
       "  [3740494262, 3322870672, 151571624],\n",
       "  [4127559328, 2467180030, 146770000],\n",
       "  [2244919185, 2003747275, 51939586],\n",
       "  [1782523793, 2281682898, 174970461],\n",
       "  [829840892, 2458649112, 8530918],\n",
       "  [3415930152, 2819793210, 9616809],\n",
       "  [3451260386, 2162555289, 86095809],\n",
       "  [650697569, 632630760, 82490275],\n",
       "  [1725834205, 787129181, 30553919],\n",
       "  [2298219434, 2095755585, 66799704],\n",
       "  [4274329328, 2613950030, 20637968],\n",
       "  [2025617582, 4242693061, 52274235],\n",
       "  [3564300980, 2248651098, 31671137],\n",
       "  [2296858771, 2280322235, 1360663],\n",
       "  [3162226157, 4125227747, 85652641],\n",
       "  [1564565599, 1911070479, 92676796],\n",
       "  [3892065886, 3691277537, 235493442],\n",
       "  [3371093523, 1848297376, 44836629],\n",
       "  [1187663862, 1437436130, 376901737],\n",
       "  [1689179378, 2755806970, 36654827],\n",
       "  [2077891817, 1238471779, 167027368],\n",
       "  [2365019138, 2792461797, 27331413],\n",
       "  [2678412296, 3953715764, 63025182],\n",
       "  [2741437478, 817683100, 420788679],\n",
       "  [2461577055, 3474442296, 216835241],\n",
       "  [787129181, 3228888925, 21340999],\n",
       "  [3595972117, 3250229924, 72640748],\n",
       "  [838371810, 2829410019, 331355578],\n",
       "  [3425546961, 4085967450, 25713425],\n",
       "  [1657242395, 1405499147, 31936983],\n",
       "  [3708681589, 4210880388, 31812673],\n",
       "  [1756388124, 4111680875, 13546872],\n",
       "  [1169727388, 1893134005, 17936474],\n",
       "  [2392350551, 4016740946, 69226504],\n",
       "  [808470180, 1826926664, 21370712],\n",
       "  [218943670, 379920251, 190546399],\n",
       "  [214721347, 375697928, 4222323],\n",
       "  [1769934996, 1814337867, 12588797]],\n",
       " [[3411019791, 3038265544, 83843899],\n",
       "  [1902872961, 1862724448, 39203216],\n",
       "  [3968365807, 2753393749, 138464731],\n",
       "  [1729762115, 1614300400, 173110846],\n",
       "  [3494863690, 3122109443, 473502117],\n",
       "  [423365393, 445887946, 9248183],\n",
       "  [2869853730, 3595611560, 11542547],\n",
       "  [910597576, 2054510840, 169422772],\n",
       "  [609563085, 2589844190, 163549559],\n",
       "  [2522382340, 1299215911, 3599854],\n",
       "  [2525982194, 609563085, 139503131],\n",
       "  [131438599, 455136129, 141314541],\n",
       "  [4106830538, 3607154107, 188136758],\n",
       "  [2106420951, 2290083024, 299761166],\n",
       "  [2406182117, 966254850, 82053377],\n",
       "  [1157660094, 1302815765, 172746664],\n",
       "  [97774358, 248386611, 33664241],\n",
       "  [432613576, 282050852, 163837094],\n",
       "  [2835557666, 1794281538, 34296064],\n",
       "  [1953837775, 2043524684, 10986156],\n",
       "  [1964823931, 1901927664, 141597020],\n",
       "  [2881396277, 749066216, 217188634],\n",
       "  [3404149499, 1787411246, 6870292],\n",
       "  [1330406758, 3795290865, 240494284],\n",
       "  [773112644, 4035785149, 137484932],\n",
       "  [3282452284, 4173270081, 121697215],\n",
       "  [2665485325, 3001382926, 36882618],\n",
       "  [272753140, 97774358, 150612253],\n",
       "  [0, 38271406, 59502952],\n",
       "  [3098584911, 1115348538, 183867373],\n",
       "  [1570901042, 2938014447, 31884700],\n",
       "  [1942076177, 1602538802, 11761598],\n",
       "  [2488235494, 1828577602, 34146846],\n",
       "  [1080020348, 2969899147, 31483779],\n",
       "  [1602785742, 1475562429, 126976373],\n",
       "  [1111504127, 2891858480, 46155967],\n",
       "  [2768517355, 1048308227, 67040311],\n",
       "  [59502952, 0, 38271406],\n",
       "  [2702367943, 2223933612, 66149412]],\n",
       " [[2325040309, 318068442, 41526915],\n",
       "  [3863810956, 4139509244, 32531846],\n",
       "  [3695021342, 4093645836, 45863408],\n",
       "  [3176344157, 3053768010, 518677185],\n",
       "  [2214303174, 207331307, 110737135],\n",
       "  [1166404663, 0, 207331307],\n",
       "  [3896342802, 3761428671, 206212717],\n",
       "  [216675148, 359595357, 47363132],\n",
       "  [4102555519, 3967641388, 126004448],\n",
       "  [264038280, 406958489, 888098871],\n",
       "  [4228559967, 3572445195, 66407329],\n",
       "  [1152137151, 1295057360, 14267512],\n",
       "  [3053768010, 3638852524, 122576147],\n",
       "  [1373735970, 1526000020, 840567204],\n",
       "  [0, 1309324872, 216675148],\n",
       "  [3740884750, 4172041090, 122926206]],\n",
       " [[0, 1391213880, 85308204],\n",
       "  [3458067104, 3613119976, 31521054],\n",
       "  [1325453299, 1240145095, 151068785],\n",
       "  [4139914424, 3458067104, 155052872],\n",
       "  [1271510819, 1186202615, 53942480],\n",
       "  [85308204, 0, 1186202615],\n",
       "  [3489588158, 3644641030, 650326266]],\n",
       " [[167312469, 2495357077, 210182350],\n",
       "  [1429747769, 3808500825, 68802537],\n",
       "  [2550869359, 1829966489, 80945905],\n",
       "  [1243007130, 3610450429, 186740639],\n",
       "  [1735537822, 990200552, 68491638],\n",
       "  [2426758858, 2125855270, 111895863],\n",
       "  [1637338839, 2027656287, 98198983],\n",
       "  [3109292740, 3306673452, 735862],\n",
       "  [3647611593, 2386885260, 96257179],\n",
       "  [3910495658, 3919394548, 32743716],\n",
       "  [3860612665, 3289982755, 16690697],\n",
       "  [3743868772, 1910912394, 116743893],\n",
       "  [1498550306, 2705539427, 138788533],\n",
       "  [0, 1662654020, 167312469],\n",
       "  [2631815264, 512723076, 477477476],\n",
       "  [836912419, 1370893553, 291760467],\n",
       "  [2271993218, 3307409314, 154765640],\n",
       "  [4136363029, 3910495658, 8898890],\n",
       "  [377494819, 3797191068, 11309757],\n",
       "  [1804029460, 1058692190, 209661300],\n",
       "  [836150842, 3517760656, 761577],\n",
       "  [3110028602, 3518522233, 91928196],\n",
       "  [2538654721, 2483142439, 12214638],\n",
       "  [687016715, 2237751133, 149134127],\n",
       "  [3201956798, 2844327960, 445654795],\n",
       "  [1128672886, 1268353490, 102540063],\n",
       "  [2057482281, 0, 214510937],\n",
       "  [388804576, 214510937, 298212139],\n",
       "  [1231212949, 3505966475, 11794181],\n",
       "  [2013690760, 3462174954, 43791521],\n",
       "  [3943239374, 3952138264, 193123655]]]"
      ]
     },
     "execution_count": 78,
     "metadata": {},
     "output_type": "execute_result"
    }
   ],
   "source": [
    "## parse input\n",
    "seeds = inputs[0]\n",
    "seeds = [int(x) for x in seeds.split(\":\")[1].strip().split(\" \")]\n",
    "\n",
    "overall_mapping = []\n",
    "for line in inputs[2:]:\n",
    "    if line == \"\":\n",
    "        pass\n",
    "    elif \"map\" in line:\n",
    "        overall_mapping.append([])\n",
    "    else:\n",
    "        overall_mapping[-1].append([int(x) for x in line.split(\" \")])\n",
    "\n",
    "overall_mapping[:10]"
   ]
  },
  {
   "cell_type": "code",
   "execution_count": 96,
   "metadata": {},
   "outputs": [
    {
     "name": "stdout",
     "output_type": "stream",
     "text": [
      "523400939\n",
      "938816565\n",
      "25834266\n",
      "1258800714\n",
      "2954367874\n",
      "1051284654\n",
      "1547394244\n",
      "976324856\n",
      "1013400392\n",
      "1079119009\n",
      "3538276045\n",
      "1501659012\n",
      "1924505285\n",
      "895246825\n",
      "1660089471\n",
      "1047360126\n",
      "4072618829\n",
      "971776537\n",
      "2004636285\n",
      "1231163865\n"
     ]
    }
   ],
   "source": [
    "## translate from seed to soil\n",
    "for seed in seeds:\n",
    "    soil = seed\n",
    "    for mapping in overall_mapping[0]:\n",
    "        dest, source, map_range = mapping\n",
    "        if seed >= source and seed < source + map_range:\n",
    "            soil = dest + (seed - source)\n",
    "\n",
    "    print(soil)"
   ]
  },
  {
   "cell_type": "code",
   "execution_count": 31,
   "metadata": {},
   "outputs": [
    {
     "name": "stdout",
     "output_type": "stream",
     "text": [
      "486613012\n"
     ]
    }
   ],
   "source": [
    "## translate from seed to location\n",
    "progression = [seeds]\n",
    "for i in range(len(overall_mapping)):\n",
    "    progression.append([])\n",
    "    for item in progression[i]:\n",
    "        next_item = item\n",
    "        for mapping in overall_mapping[i]:\n",
    "            dest, source, map_range = mapping\n",
    "            if item >= source and item < source + map_range:\n",
    "                next_item = dest + (item - source)\n",
    "        progression[-1].append(next_item)\n",
    "\n",
    "print(min(progression[-1]))"
   ]
  },
  {
   "cell_type": "code",
   "execution_count": 46,
   "metadata": {},
   "outputs": [],
   "source": [
    "from tqdm import tqdm"
   ]
  },
  {
   "cell_type": "code",
   "execution_count": 95,
   "metadata": {},
   "outputs": [
    {
     "name": "stdout",
     "output_type": "stream",
     "text": [
      "[2906961955, 52237479, 1600322402, 372221628, 2347782594, 164705568, 541904540, 89745770, 126821306, 192539923, 3411274151, 496169308, 919015581, 8667739, 654599767, 160781040, 3945616935, 85197451, 999146581, 344584779]\n"
     ]
    }
   ],
   "source": [
    "print(seeds)"
   ]
  },
  {
   "cell_type": "code",
   "execution_count": 98,
   "metadata": {},
   "outputs": [
    {
     "name": "stdout",
     "output_type": "stream",
     "text": [
      "0\n",
      "2906961955 2959199434\n",
      "2\n",
      "1600322402 1972544030\n",
      "4\n",
      "2347782594 2512488162\n",
      "6\n",
      "541904540 631650310\n",
      "8\n",
      "126821306 319361229\n",
      "10\n",
      "3411274151 3907443459\n",
      "12\n",
      "919015581 927683320\n",
      "14\n",
      "654599767 815380807\n",
      "16\n",
      "3945616935 4030814386\n",
      "18\n",
      "999146581 1343731360\n"
     ]
    },
    {
     "data": {
      "text/plain": [
       "1966850685"
      ]
     },
     "execution_count": 98,
     "metadata": {},
     "output_type": "execute_result"
    }
   ],
   "source": [
    "total_seeds = []\n",
    "seed_count = 0\n",
    "for x in range(0,len(seeds),2):\n",
    "    print(x)\n",
    "    seed_no = seeds[x]\n",
    "    seed_range = seeds[x+1]\n",
    "    seed_count += seed_range\n",
    "    print(seeds[x], seeds[x] + seeds[x+1])\n",
    "    # for y in tqdm(range(seed_range)):\n",
    "    #     if seed_no + y not in total_seeds:\n",
    "    #         total_seeds.append(seed_no + y)\n",
    "    # total_seeds += [seed_no + y for y in tqdm(range(seed_range))]\n",
    "\n",
    "seed_count"
   ]
  },
  {
   "cell_type": "code",
   "execution_count": 79,
   "metadata": {},
   "outputs": [
    {
     "name": "stderr",
     "output_type": "stream",
     "text": [
      " 84%|████████▍ | 43980825/52237479 [2:00:12<22:34, 6097.57it/s]\n",
      "  0%|          | 0/10 [2:00:12<?, ?it/s]\n"
     ]
    },
    {
     "name": "stdout",
     "output_type": "stream",
     "text": [
      "Unexpected exception formatting exception. Falling back to standard exception\n"
     ]
    },
    {
     "name": "stderr",
     "output_type": "stream",
     "text": [
      "Traceback (most recent call last):\n",
      "  File \"C:\\Users\\Siyang\\AppData\\Roaming\\Python\\Python310\\site-packages\\IPython\\core\\interactiveshell.py\", line 3398, in run_code\n",
      "    exec(code_obj, self.user_global_ns, self.user_ns)\n",
      "  File \"C:\\Users\\Siyang\\AppData\\Local\\Temp\\ipykernel_18960\\3234630469.py\", line -1, in <cell line: 7>\n",
      "KeyboardInterrupt\n",
      "\n",
      "During handling of the above exception, another exception occurred:\n",
      "\n",
      "Traceback (most recent call last):\n",
      "  File \"C:\\Users\\Siyang\\AppData\\Roaming\\Python\\Python310\\site-packages\\IPython\\core\\interactiveshell.py\", line 1993, in showtraceback\n",
      "    stb = self.InteractiveTB.structured_traceback(\n",
      "  File \"C:\\Users\\Siyang\\AppData\\Roaming\\Python\\Python310\\site-packages\\IPython\\core\\ultratb.py\", line 1118, in structured_traceback\n",
      "    return FormattedTB.structured_traceback(\n",
      "  File \"C:\\Users\\Siyang\\AppData\\Roaming\\Python\\Python310\\site-packages\\IPython\\core\\ultratb.py\", line 1012, in structured_traceback\n",
      "    return VerboseTB.structured_traceback(\n",
      "  File \"C:\\Users\\Siyang\\AppData\\Roaming\\Python\\Python310\\site-packages\\IPython\\core\\ultratb.py\", line 865, in structured_traceback\n",
      "    formatted_exception = self.format_exception_as_a_whole(etype, evalue, etb, number_of_lines_of_context,\n",
      "  File \"C:\\Users\\Siyang\\AppData\\Roaming\\Python\\Python310\\site-packages\\IPython\\core\\ultratb.py\", line 818, in format_exception_as_a_whole\n",
      "    frames.append(self.format_record(r))\n",
      "  File \"C:\\Users\\Siyang\\AppData\\Roaming\\Python\\Python310\\site-packages\\IPython\\core\\ultratb.py\", line 736, in format_record\n",
      "    result += ''.join(_format_traceback_lines(frame_info.lines, Colors, self.has_colors, lvals))\n",
      "  File \"C:\\Users\\Siyang\\AppData\\Roaming\\Python\\Python310\\site-packages\\stack_data\\utils.py\", line 145, in cached_property_wrapper\n",
      "    value = obj.__dict__[self.func.__name__] = self.func(obj)\n",
      "  File \"C:\\Users\\Siyang\\AppData\\Roaming\\Python\\Python310\\site-packages\\stack_data\\core.py\", line 698, in lines\n",
      "    pieces = self.included_pieces\n",
      "  File \"C:\\Users\\Siyang\\AppData\\Roaming\\Python\\Python310\\site-packages\\stack_data\\utils.py\", line 145, in cached_property_wrapper\n",
      "    value = obj.__dict__[self.func.__name__] = self.func(obj)\n",
      "  File \"C:\\Users\\Siyang\\AppData\\Roaming\\Python\\Python310\\site-packages\\stack_data\\core.py\", line 649, in included_pieces\n",
      "    pos = scope_pieces.index(self.executing_piece)\n",
      "  File \"C:\\Users\\Siyang\\AppData\\Roaming\\Python\\Python310\\site-packages\\stack_data\\utils.py\", line 145, in cached_property_wrapper\n",
      "    value = obj.__dict__[self.func.__name__] = self.func(obj)\n",
      "  File \"C:\\Users\\Siyang\\AppData\\Roaming\\Python\\Python310\\site-packages\\stack_data\\core.py\", line 628, in executing_piece\n",
      "    return only(\n",
      "  File \"C:\\Users\\Siyang\\AppData\\Roaming\\Python\\Python310\\site-packages\\executing\\executing.py\", line 164, in only\n",
      "    raise NotOneValueFound('Expected one value, found 0')\n",
      "executing.executing.NotOneValueFound: Expected one value, found 0\n"
     ]
    }
   ],
   "source": [
    "## translate from seed to location\n",
    "## take into account more seeds now\n",
    "## probably should do this vertically instead of horizontally now\n",
    "current_smallest = None\n",
    "\n",
    "## for each seed\n",
    "for j in tqdm(range(0,len(seeds),2)):\n",
    "    first_item_in_range = seeds[j]\n",
    "    item_range = seeds[j+1]\n",
    "    # print(first_item_in_range, item_range)\n",
    "\n",
    "    ## for each range specified by pairing in the seed list\n",
    "    for k in tqdm(range(0,item_range)):\n",
    "        # print(f\"searching location for seed {first_item_in_range + k}...\")\n",
    "        item = first_item_in_range + k\n",
    "        next_item = item\n",
    "        # print(item)\n",
    "        ## for each of the item to item mappings\n",
    "        for i in range(len(overall_mapping)):\n",
    "\n",
    "            ## for each of the specific item to item mapping specified \n",
    "            for mapping in overall_mapping[i]:\n",
    "                dest, source, map_range = mapping\n",
    "                if item >= source and item < source + map_range:\n",
    "                    next_item = dest + (item - source)\n",
    "            item = next_item\n",
    "\n",
    "        ## check if current location is the smallest\n",
    "        if current_smallest == None or next_item < current_smallest:\n",
    "            current_smallest = next_item\n",
    "        # print(f'seed {first_item_in_range + k} was mapped to location {next_item}\\n')\n",
    "\n",
    "print(current_smallest)"
   ]
  }
 ],
 "metadata": {
  "kernelspec": {
   "display_name": ".venv",
   "language": "python",
   "name": "python3"
  },
  "language_info": {
   "codemirror_mode": {
    "name": "ipython",
    "version": 3
   },
   "file_extension": ".py",
   "mimetype": "text/x-python",
   "name": "python",
   "nbconvert_exporter": "python",
   "pygments_lexer": "ipython3",
   "version": "3.10.5"
  }
 },
 "nbformat": 4,
 "nbformat_minor": 2
}
