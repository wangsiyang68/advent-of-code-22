{
 "cells": [
  {
   "cell_type": "code",
   "execution_count": 2,
   "metadata": {},
   "outputs": [],
   "source": [
    "f = open('input.txt', 'r') \n",
    "\n",
    "inputs = []\n",
    "for line in f:\n",
    "    inputs.append(line.strip()) \n",
    "\n",
    "f.close()"
   ]
  },
  {
   "cell_type": "code",
   "execution_count": 3,
   "metadata": {},
   "outputs": [
    {
     "data": {
      "text/plain": [
       "1000"
      ]
     },
     "execution_count": 3,
     "metadata": {},
     "output_type": "execute_result"
    }
   ],
   "source": [
    "len(inputs)"
   ]
  },
  {
   "cell_type": "code",
   "execution_count": 4,
   "metadata": {},
   "outputs": [
    {
     "name": "stdout",
     "output_type": "stream",
     "text": [
      "54561\n"
     ]
    }
   ],
   "source": [
    "total = 0\n",
    "for input in inputs:\n",
    "    first_num = ''\n",
    "    last_num = ''\n",
    "    for char in input:\n",
    "        if char.isnumeric():\n",
    "            if (first_num == ''):\n",
    "                first_num = char\n",
    "            last_num = char\n",
    "    number = int(first_num + last_num)\n",
    "    total += number\n",
    "    \n",
    "print(total)"
   ]
  },
  {
   "cell_type": "code",
   "execution_count": 6,
   "metadata": {},
   "outputs": [],
   "source": [
    "import copy"
   ]
  },
  {
   "cell_type": "code",
   "execution_count": 7,
   "metadata": {},
   "outputs": [
    {
     "ename": "IndexError",
     "evalue": "list index out of range",
     "output_type": "error",
     "traceback": [
      "\u001b[1;31m---------------------------------------------------------------------------\u001b[0m",
      "\u001b[1;31mIndexError\u001b[0m                                Traceback (most recent call last)",
      "\u001b[1;32mc:\\Users\\siyang\\Documents\\GitHub\\advent-of-code-22\\2023\\day-1\\solution.ipynb Cell 5\u001b[0m line \u001b[0;36m1\n\u001b[0;32m      <a href='vscode-notebook-cell:/c%3A/Users/siyang/Documents/GitHub/advent-of-code-22/2023/day-1/solution.ipynb#W3sZmlsZQ%3D%3D?line=6'>7</a>\u001b[0m selected_text \u001b[39m=\u001b[39m \u001b[39minput\u001b[39m[i:i\u001b[39m+\u001b[39mword_length]\n\u001b[0;32m      <a href='vscode-notebook-cell:/c%3A/Users/siyang/Documents/GitHub/advent-of-code-22/2023/day-1/solution.ipynb#W3sZmlsZQ%3D%3D?line=7'>8</a>\u001b[0m \u001b[39mif\u001b[39;00m selected_text \u001b[39min\u001b[39;00m valid_words:\n\u001b[0;32m      <a href='vscode-notebook-cell:/c%3A/Users/siyang/Documents/GitHub/advent-of-code-22/2023/day-1/solution.ipynb#W3sZmlsZQ%3D%3D?line=8'>9</a>\u001b[0m     \u001b[39m## add the right number\u001b[39;00m\n\u001b[1;32m---> <a href='vscode-notebook-cell:/c%3A/Users/siyang/Documents/GitHub/advent-of-code-22/2023/day-1/solution.ipynb#W3sZmlsZQ%3D%3D?line=9'>10</a>\u001b[0m     new_inputs[\u001b[39m-\u001b[39;49m\u001b[39m1\u001b[39;49m] \u001b[39m+\u001b[39m\u001b[39m=\u001b[39m \u001b[39mstr\u001b[39m(valid_words\u001b[39m.\u001b[39mindex(selected_text)\u001b[39m+\u001b[39m\u001b[39m1\u001b[39m)\n\u001b[0;32m     <a href='vscode-notebook-cell:/c%3A/Users/siyang/Documents/GitHub/advent-of-code-22/2023/day-1/solution.ipynb#W3sZmlsZQ%3D%3D?line=10'>11</a>\u001b[0m \u001b[39melse\u001b[39;00m:\n\u001b[0;32m     <a href='vscode-notebook-cell:/c%3A/Users/siyang/Documents/GitHub/advent-of-code-22/2023/day-1/solution.ipynb#W3sZmlsZQ%3D%3D?line=11'>12</a>\u001b[0m     new_inputs[\u001b[39m-\u001b[39m\u001b[39m1\u001b[39m] \u001b[39m+\u001b[39m\u001b[39m=\u001b[39m \u001b[39minput\u001b[39m[i]\n",
      "\u001b[1;31mIndexError\u001b[0m: list index out of range"
     ]
    }
   ],
   "source": [
    "valid_words = ['one', 'two', 'three', 'four', 'five', 'six', 'seven', 'eight', 'nine']\n",
    "valid_lengths = set(len(x) for x in valid_words)\n",
    "for word_length in valid_lengths:\n",
    "    new_inputs = []\n",
    "    for input in inputs:\n",
    "        new_inputs.append('')\n",
    "        for i in range(0,len(input)-word_length):\n",
    "            selected_text = input[i:i+word_length]\n",
    "            if selected_text in valid_words:\n",
    "                ## add the right number\n",
    "                new_inputs[-1] += str(valid_words.index(selected_text)+1)\n",
    "            else:\n",
    "                new_inputs[-1] += input[i]\n",
    "        ## add the remaining text\n",
    "        new_inputs[-1] += input[i+1:]\n",
    "    inputs = new_inputs\n",
    "\n",
    "\n",
    "## call the earlier solution on this text"
   ]
  },
  {
   "cell_type": "code",
   "execution_count": 5,
   "metadata": {},
   "outputs": [
    {
     "data": {
      "text/plain": [
       "'abc'"
      ]
     },
     "execution_count": 5,
     "metadata": {},
     "output_type": "execute_result"
    }
   ],
   "source": [
    "a = 'abcde'\n",
    "a[0:3]"
   ]
  }
 ],
 "metadata": {
  "kernelspec": {
   "display_name": "Python 3",
   "language": "python",
   "name": "python3"
  },
  "language_info": {
   "codemirror_mode": {
    "name": "ipython",
    "version": 3
   },
   "file_extension": ".py",
   "mimetype": "text/x-python",
   "name": "python",
   "nbconvert_exporter": "python",
   "pygments_lexer": "ipython3",
   "version": "3.11.4"
  }
 },
 "nbformat": 4,
 "nbformat_minor": 2
}
